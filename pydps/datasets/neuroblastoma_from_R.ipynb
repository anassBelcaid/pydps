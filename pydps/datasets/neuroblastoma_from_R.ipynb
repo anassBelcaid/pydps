{
 "cells": [
  {
   "cell_type": "markdown",
   "metadata": {},
   "source": [
    "# Converting neuroblastoma to pandas\n",
    "\n",
    "In this post I will convert the annotated copy number profiles stored in [neuroblastoma](https://cran.r-project.org/web/packages/neuroblastoma/index.html) **R** package. The data contains *partially* annotated profiles.\n",
    "\n",
    "My main work will be to load and understand the data, get a feeling of all the entries and finally create a custom dataset to use in my package `pydps`."
   ]
  },
  {
   "cell_type": "markdown",
   "metadata": {},
   "source": [
    "The content of the notebook is organized as follow:\n",
    "1. <a href=\"loading\"> Loading the data</a>"
   ]
  },
  {
   "cell_type": "markdown",
   "metadata": {},
   "source": [
    "<a id = \"loading\"> </a>\n",
    "## Loading the data\n",
    "\n",
    "First step in this process is to load the saved dataset from `R`. The **neuroblastoma** package contains two datasets\n",
    "\n",
    "1. **profiles** : saved in `neuroblastoma_profiles.csv`\n",
    "2. **annotations** : saved in `neuroblastoma_annoations.csv`\n"
   ]
  },
  {
   "cell_type": "code",
   "execution_count": 2,
   "metadata": {},
   "outputs": [
    {
     "name": "stdout",
     "output_type": "stream",
     "text": [
      "<class 'pandas.core.frame.DataFrame'>\n",
      "Int64Index: 4616846 entries, 1 to 4782328\n",
      "Data columns (total 4 columns):\n",
      "profile.id    int64\n",
      "chromosome    object\n",
      "position      int64\n",
      "logratio      float64\n",
      "dtypes: float64(1), int64(2), object(1)\n",
      "memory usage: 176.1+ MB\n"
     ]
    },
    {
     "data": {
      "text/html": [
       "<div>\n",
       "<style scoped>\n",
       "    .dataframe tbody tr th:only-of-type {\n",
       "        vertical-align: middle;\n",
       "    }\n",
       "\n",
       "    .dataframe tbody tr th {\n",
       "        vertical-align: top;\n",
       "    }\n",
       "\n",
       "    .dataframe thead th {\n",
       "        text-align: right;\n",
       "    }\n",
       "</style>\n",
       "<table border=\"1\" class=\"dataframe\">\n",
       "  <thead>\n",
       "    <tr style=\"text-align: right;\">\n",
       "      <th></th>\n",
       "      <th>profile.id</th>\n",
       "      <th>chromosome</th>\n",
       "      <th>position</th>\n",
       "      <th>logratio</th>\n",
       "    </tr>\n",
       "  </thead>\n",
       "  <tbody>\n",
       "    <tr>\n",
       "      <th>1</th>\n",
       "      <td>8</td>\n",
       "      <td>1</td>\n",
       "      <td>809681</td>\n",
       "      <td>-0.017417</td>\n",
       "    </tr>\n",
       "    <tr>\n",
       "      <th>2</th>\n",
       "      <td>8</td>\n",
       "      <td>1</td>\n",
       "      <td>928433</td>\n",
       "      <td>0.066261</td>\n",
       "    </tr>\n",
       "    <tr>\n",
       "      <th>3</th>\n",
       "      <td>8</td>\n",
       "      <td>1</td>\n",
       "      <td>987423</td>\n",
       "      <td>0.067639</td>\n",
       "    </tr>\n",
       "    <tr>\n",
       "      <th>4</th>\n",
       "      <td>8</td>\n",
       "      <td>1</td>\n",
       "      <td>1083595</td>\n",
       "      <td>0.042644</td>\n",
       "    </tr>\n",
       "    <tr>\n",
       "      <th>5</th>\n",
       "      <td>8</td>\n",
       "      <td>1</td>\n",
       "      <td>1125548</td>\n",
       "      <td>0.005759</td>\n",
       "    </tr>\n",
       "    <tr>\n",
       "      <th>6</th>\n",
       "      <td>8</td>\n",
       "      <td>1</td>\n",
       "      <td>1199359</td>\n",
       "      <td>0.000000</td>\n",
       "    </tr>\n",
       "    <tr>\n",
       "      <th>7</th>\n",
       "      <td>8</td>\n",
       "      <td>1</td>\n",
       "      <td>1392490</td>\n",
       "      <td>0.069015</td>\n",
       "    </tr>\n",
       "    <tr>\n",
       "      <th>8</th>\n",
       "      <td>8</td>\n",
       "      <td>1</td>\n",
       "      <td>1672814</td>\n",
       "      <td>0.204141</td>\n",
       "    </tr>\n",
       "  </tbody>\n",
       "</table>\n",
       "</div>"
      ],
      "text/plain": [
       "   profile.id chromosome  position  logratio\n",
       "1           8          1    809681 -0.017417\n",
       "2           8          1    928433  0.066261\n",
       "3           8          1    987423  0.067639\n",
       "4           8          1   1083595  0.042644\n",
       "5           8          1   1125548  0.005759\n",
       "6           8          1   1199359  0.000000\n",
       "7           8          1   1392490  0.069015\n",
       "8           8          1   1672814  0.204141"
      ]
     },
     "execution_count": 2,
     "metadata": {},
     "output_type": "execute_result"
    }
   ],
   "source": [
    "import pandas as pd\n",
    "\n",
    "profiles = pd.read_csv('./neuroblastoma_profiles.csv',index_col=0)\n",
    "profiles.info()\n",
    "profiles.head(8)"
   ]
  },
  {
   "cell_type": "markdown",
   "metadata": {},
   "source": [
    "The dataset contains **four** informations \n",
    "\n",
    "* `profile.id`  : id of patient\n",
    "* `chromosome`  : chromosome number there are 10 they can be inestigated by unique\n",
    "* `position`    : position of the measure in the profile (x coordinate of the plot)\n",
    "* `logratio`    : the log ratio measure where we could detect the jumps positions"
   ]
  },
  {
   "cell_type": "code",
   "execution_count": 4,
   "metadata": {},
   "outputs": [
    {
     "name": "stdout",
     "output_type": "stream",
     "text": [
      "<class 'pandas.core.frame.DataFrame'>\n",
      "Int64Index: 3418 entries, 1 to 3446\n",
      "Data columns (total 5 columns):\n",
      "profile.id    3418 non-null int64\n",
      "chromosome    3418 non-null int64\n",
      "min           3418 non-null int64\n",
      "max           3418 non-null int64\n",
      "annotation    3418 non-null object\n",
      "dtypes: int64(4), object(1)\n",
      "memory usage: 160.2+ KB\n"
     ]
    },
    {
     "data": {
      "text/html": [
       "<div>\n",
       "<style scoped>\n",
       "    .dataframe tbody tr th:only-of-type {\n",
       "        vertical-align: middle;\n",
       "    }\n",
       "\n",
       "    .dataframe tbody tr th {\n",
       "        vertical-align: top;\n",
       "    }\n",
       "\n",
       "    .dataframe thead th {\n",
       "        text-align: right;\n",
       "    }\n",
       "</style>\n",
       "<table border=\"1\" class=\"dataframe\">\n",
       "  <thead>\n",
       "    <tr style=\"text-align: right;\">\n",
       "      <th></th>\n",
       "      <th>profile.id</th>\n",
       "      <th>chromosome</th>\n",
       "      <th>min</th>\n",
       "      <th>max</th>\n",
       "      <th>annotation</th>\n",
       "    </tr>\n",
       "  </thead>\n",
       "  <tbody>\n",
       "    <tr>\n",
       "      <th>1</th>\n",
       "      <td>213</td>\n",
       "      <td>11</td>\n",
       "      <td>53700000</td>\n",
       "      <td>135006516</td>\n",
       "      <td>normal</td>\n",
       "    </tr>\n",
       "    <tr>\n",
       "      <th>2</th>\n",
       "      <td>333</td>\n",
       "      <td>11</td>\n",
       "      <td>53700000</td>\n",
       "      <td>135006516</td>\n",
       "      <td>normal</td>\n",
       "    </tr>\n",
       "    <tr>\n",
       "      <th>3</th>\n",
       "      <td>393</td>\n",
       "      <td>11</td>\n",
       "      <td>53700000</td>\n",
       "      <td>135006516</td>\n",
       "      <td>normal</td>\n",
       "    </tr>\n",
       "    <tr>\n",
       "      <th>4</th>\n",
       "      <td>148</td>\n",
       "      <td>11</td>\n",
       "      <td>53700000</td>\n",
       "      <td>135006516</td>\n",
       "      <td>normal</td>\n",
       "    </tr>\n",
       "    <tr>\n",
       "      <th>5</th>\n",
       "      <td>402</td>\n",
       "      <td>11</td>\n",
       "      <td>53700000</td>\n",
       "      <td>135006516</td>\n",
       "      <td>normal</td>\n",
       "    </tr>\n",
       "    <tr>\n",
       "      <th>6</th>\n",
       "      <td>521</td>\n",
       "      <td>11</td>\n",
       "      <td>53700000</td>\n",
       "      <td>135006516</td>\n",
       "      <td>normal</td>\n",
       "    </tr>\n",
       "  </tbody>\n",
       "</table>\n",
       "</div>"
      ],
      "text/plain": [
       "   profile.id  chromosome       min        max annotation\n",
       "1         213          11  53700000  135006516     normal\n",
       "2         333          11  53700000  135006516     normal\n",
       "3         393          11  53700000  135006516     normal\n",
       "4         148          11  53700000  135006516     normal\n",
       "5         402          11  53700000  135006516     normal\n",
       "6         521          11  53700000  135006516     normal"
      ]
     },
     "execution_count": 4,
     "metadata": {},
     "output_type": "execute_result"
    }
   ],
   "source": [
    "annotations = pd.read_csv(\"./neuroblastoma_annotations.csv\", index_col=0)\n",
    "annotations.info()\n",
    "annotations.head(6)"
   ]
  },
  {
   "cell_type": "markdown",
   "metadata": {},
   "source": [
    "The annotation dataset is a little different. I contains **5** columns.\n",
    "\n",
    "* `profile.id` : Same as the profiles dataset charaterized the patient id\n",
    "* `chromosoe`  : which chromoose is annotated\n",
    "* `min` and `max` : didn't get the exact definition of those \n",
    "* `annotation`  : annotation for the chromosome *normal* if doese contains any jumps or breakpoints"
   ]
  },
  {
   "cell_type": "markdown",
   "metadata": {},
   "source": [
    "## Merging the data\n",
    "<a id=\"merging\" >\n",
    "\n",
    "\n",
    "First we will **drop** the min and max as they are irrelevant for our task. Also, we will encode the `annotation` column with **normal = 0** and **breakpoint = 1**"
   ]
  },
  {
   "cell_type": "code",
   "execution_count": 5,
   "metadata": {},
   "outputs": [
    {
     "data": {
      "text/html": [
       "<div>\n",
       "<style scoped>\n",
       "    .dataframe tbody tr th:only-of-type {\n",
       "        vertical-align: middle;\n",
       "    }\n",
       "\n",
       "    .dataframe tbody tr th {\n",
       "        vertical-align: top;\n",
       "    }\n",
       "\n",
       "    .dataframe thead th {\n",
       "        text-align: right;\n",
       "    }\n",
       "</style>\n",
       "<table border=\"1\" class=\"dataframe\">\n",
       "  <thead>\n",
       "    <tr style=\"text-align: right;\">\n",
       "      <th></th>\n",
       "      <th>profile.id</th>\n",
       "      <th>chromosome</th>\n",
       "      <th>annotation</th>\n",
       "    </tr>\n",
       "  </thead>\n",
       "  <tbody>\n",
       "    <tr>\n",
       "      <th>1</th>\n",
       "      <td>213</td>\n",
       "      <td>11</td>\n",
       "      <td>0</td>\n",
       "    </tr>\n",
       "    <tr>\n",
       "      <th>2</th>\n",
       "      <td>333</td>\n",
       "      <td>11</td>\n",
       "      <td>0</td>\n",
       "    </tr>\n",
       "    <tr>\n",
       "      <th>3</th>\n",
       "      <td>393</td>\n",
       "      <td>11</td>\n",
       "      <td>0</td>\n",
       "    </tr>\n",
       "    <tr>\n",
       "      <th>4</th>\n",
       "      <td>148</td>\n",
       "      <td>11</td>\n",
       "      <td>0</td>\n",
       "    </tr>\n",
       "    <tr>\n",
       "      <th>5</th>\n",
       "      <td>402</td>\n",
       "      <td>11</td>\n",
       "      <td>0</td>\n",
       "    </tr>\n",
       "  </tbody>\n",
       "</table>\n",
       "</div>"
      ],
      "text/plain": [
       "   profile.id  chromosome  annotation\n",
       "1         213          11           0\n",
       "2         333          11           0\n",
       "3         393          11           0\n",
       "4         148          11           0\n",
       "5         402          11           0"
      ]
     },
     "execution_count": 5,
     "metadata": {},
     "output_type": "execute_result"
    }
   ],
   "source": [
    "#dropping the min and max \n",
    "annotations.drop(['min', 'max'],inplace=True, axis=1)\n",
    "\n",
    "#replacing the annotation\n",
    "annotations.annotation = annotations.annotation.apply(lambda x: 0 if x=='normal' else 1)\n",
    "#showing the data\n",
    "annotations.head()"
   ]
  },
  {
   "cell_type": "markdown",
   "metadata": {},
   "source": [
    "Now we will merge the two datasets `annotations` and `profiles` with  defining columns `[profile.id, chromosome]`. A problem with the annotations is that chromosome with  the letter `X` are `Y` are never annotated. So will convert the **annotation** column in `annotations` to *Objects* to merge the two datasets"
   ]
  },
  {
   "cell_type": "code",
   "execution_count": 18,
   "metadata": {},
   "outputs": [],
   "source": [
    "annotations.chromosome = annotations.chromosome.astype(\"object\")"
   ]
  },
  {
   "cell_type": "code",
   "execution_count": 20,
   "metadata": {},
   "outputs": [
    {
     "data": {
      "text/html": [
       "<div>\n",
       "<style scoped>\n",
       "    .dataframe tbody tr th:only-of-type {\n",
       "        vertical-align: middle;\n",
       "    }\n",
       "\n",
       "    .dataframe tbody tr th {\n",
       "        vertical-align: top;\n",
       "    }\n",
       "\n",
       "    .dataframe thead th {\n",
       "        text-align: right;\n",
       "    }\n",
       "</style>\n",
       "<table border=\"1\" class=\"dataframe\">\n",
       "  <thead>\n",
       "    <tr style=\"text-align: right;\">\n",
       "      <th></th>\n",
       "      <th>profile.id</th>\n",
       "      <th>chromosome</th>\n",
       "      <th>position</th>\n",
       "      <th>logratio</th>\n",
       "      <th>annotation</th>\n",
       "    </tr>\n",
       "  </thead>\n",
       "  <tbody>\n",
       "    <tr>\n",
       "      <th>0</th>\n",
       "      <td>8</td>\n",
       "      <td>1</td>\n",
       "      <td>809681</td>\n",
       "      <td>-0.017417</td>\n",
       "      <td>NaN</td>\n",
       "    </tr>\n",
       "    <tr>\n",
       "      <th>1</th>\n",
       "      <td>8</td>\n",
       "      <td>1</td>\n",
       "      <td>928433</td>\n",
       "      <td>0.066261</td>\n",
       "      <td>NaN</td>\n",
       "    </tr>\n",
       "    <tr>\n",
       "      <th>2</th>\n",
       "      <td>8</td>\n",
       "      <td>1</td>\n",
       "      <td>987423</td>\n",
       "      <td>0.067639</td>\n",
       "      <td>NaN</td>\n",
       "    </tr>\n",
       "    <tr>\n",
       "      <th>3</th>\n",
       "      <td>8</td>\n",
       "      <td>1</td>\n",
       "      <td>1083595</td>\n",
       "      <td>0.042644</td>\n",
       "      <td>NaN</td>\n",
       "    </tr>\n",
       "    <tr>\n",
       "      <th>4</th>\n",
       "      <td>8</td>\n",
       "      <td>1</td>\n",
       "      <td>1125548</td>\n",
       "      <td>0.005759</td>\n",
       "      <td>NaN</td>\n",
       "    </tr>\n",
       "  </tbody>\n",
       "</table>\n",
       "</div>"
      ],
      "text/plain": [
       "   profile.id chromosome  position  logratio  annotation\n",
       "0           8          1    809681 -0.017417         NaN\n",
       "1           8          1    928433  0.066261         NaN\n",
       "2           8          1    987423  0.067639         NaN\n",
       "3           8          1   1083595  0.042644         NaN\n",
       "4           8          1   1125548  0.005759         NaN"
      ]
     },
     "execution_count": 20,
     "metadata": {},
     "output_type": "execute_result"
    }
   ],
   "source": [
    "merged = pd.merge(profiles, annotations, on = ['profile.id', 'chromosome'], how = 'left')\n",
    "merged.head()"
   ]
  },
  {
   "cell_type": "markdown",
   "metadata": {},
   "source": [
    "## Saving the dataset with pickle"
   ]
  },
  {
   "cell_type": "code",
   "execution_count": 23,
   "metadata": {},
   "outputs": [],
   "source": [
    "merged.to_pickle(\"neuroblastoma.bz2\")"
   ]
  },
  {
   "cell_type": "markdown",
   "metadata": {},
   "source": [
    "checking the size of the dataset"
   ]
  },
  {
   "cell_type": "code",
   "execution_count": 24,
   "metadata": {},
   "outputs": [
    {
     "name": "stdout",
     "output_type": "stream",
     "text": [
      "-rw-r--r-- 1 anass anass 20M Nov  7 16:43 neuroblastoma.bz2\r\n"
     ]
    }
   ],
   "source": [
    "!ls -alh neuroblastoma.bz2"
   ]
  }
 ],
 "metadata": {
  "kernelspec": {
   "display_name": "Python 3",
   "language": "python",
   "name": "python3"
  },
  "language_info": {
   "codemirror_mode": {
    "name": "ipython",
    "version": 3
   },
   "file_extension": ".py",
   "mimetype": "text/x-python",
   "name": "python",
   "nbconvert_exporter": "python",
   "pygments_lexer": "ipython3",
   "version": "3.6.9"
  }
 },
 "nbformat": 4,
 "nbformat_minor": 2
}
